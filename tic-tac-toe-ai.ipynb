{
 "cells": [
  {
   "cell_type": "code",
   "execution_count": 8,
   "id": "0057c44e-1996-48f0-b456-9ccb93c1f376",
   "metadata": {},
   "outputs": [
    {
     "name": "stdout",
     "output_type": "stream",
     "text": [
      "Welcome to Tic-Tac-Toe-AI!\n",
      "  |   |  \n",
      "---------\n",
      "  |   |  \n",
      "---------\n",
      "  |   |  \n",
      "---------\n"
     ]
    },
    {
     "name": "stdin",
     "output_type": "stream",
     "text": [
      "Player YOU, enter row (0, 1, or 2):  1\n",
      "Player YOU, enter column (0, 1, or 2):  1\n"
     ]
    },
    {
     "name": "stdout",
     "output_type": "stream",
     "text": [
      "  |   |  \n",
      "---------\n",
      "  | YOU |  \n",
      "---------\n",
      "  |   |  \n",
      "---------\n",
      "AI (AI) placed a marker at row 0, column 0\n",
      "AI |   |  \n",
      "---------\n",
      "  | YOU |  \n",
      "---------\n",
      "  |   |  \n",
      "---------\n"
     ]
    },
    {
     "name": "stdin",
     "output_type": "stream",
     "text": [
      "Player YOU, enter row (0, 1, or 2):  2\n",
      "Player YOU, enter column (0, 1, or 2):  1\n"
     ]
    },
    {
     "name": "stdout",
     "output_type": "stream",
     "text": [
      "AI |   |  \n",
      "---------\n",
      "  | YOU |  \n",
      "---------\n",
      "  | YOU |  \n",
      "---------\n",
      "AI (AI) placed a marker at row 0, column 2\n",
      "AI |   | AI\n",
      "---------\n",
      "  | YOU |  \n",
      "---------\n",
      "  | YOU |  \n",
      "---------\n"
     ]
    },
    {
     "name": "stdin",
     "output_type": "stream",
     "text": [
      "Player YOU, enter row (0, 1, or 2):  0\n",
      "Player YOU, enter column (0, 1, or 2):  1\n"
     ]
    },
    {
     "name": "stdout",
     "output_type": "stream",
     "text": [
      "AI | YOU | AI\n",
      "---------\n",
      "  | YOU |  \n",
      "---------\n",
      "  | YOU |  \n",
      "---------\n",
      "Congratulations YOU wins!\n"
     ]
    }
   ],
   "source": [
    "import sys\n",
    "\n",
    "def board_output(board):\n",
    "    for row in board:\n",
    "        print(\" | \".join(row))\n",
    "        print(\"-\" * 9)\n",
    "\n",
    "def check_winner(board):\n",
    "    # Check rows\n",
    "    for row in board:\n",
    "        if row[0] == row[1] == row[2] != \" \":\n",
    "            return True, row[0]\n",
    "\n",
    "    # Check columns\n",
    "    for col in range(3):\n",
    "        if board[0][col] == board[1][col] == board[2][col] != \" \":\n",
    "            return True, board[0][col]\n",
    "\n",
    "    # Check diagonals\n",
    "    if board[0][0] == board[1][1] == board[2][2] != \" \":\n",
    "        return True, board[0][0]\n",
    "    if board[0][2] == board[1][1] == board[2][0] != \" \":\n",
    "        return True, board[0][2]\n",
    "\n",
    "    return False, None\n",
    "\n",
    "def is_board_full(board):\n",
    "    for row in board:\n",
    "        for cell in row:\n",
    "            if cell == \" \":\n",
    "                return False\n",
    "    return True\n",
    "\n",
    "def minimax(board, depth, maximizing_player):\n",
    "    if check_winner(board)[0]:\n",
    "        return -1 if check_winner(board)[1] == \"AI\" else 1, None\n",
    "    elif is_board_full(board):\n",
    "        return 0, None\n",
    "\n",
    "    if maximizing_player:\n",
    "        max_eval = -sys.maxsize\n",
    "        for i in range(3):\n",
    "            for j in range(3):\n",
    "                if board[i][j] == \" \":\n",
    "                    board[i][j] = \"AI\"\n",
    "                    eval, _ = minimax(board, depth + 1, False)\n",
    "                    board[i][j] = \" \"\n",
    "                    max_eval = max(max_eval, eval)\n",
    "        return max_eval, None\n",
    "    else:\n",
    "        min_eval = sys.maxsize\n",
    "        for i in range(3):\n",
    "            for j in range(3):\n",
    "                if board[i][j] == \" \":\n",
    "                    board[i][j] = \"YOU\"\n",
    "                    eval, _ = minimax(board, depth + 1, True)\n",
    "                    board[i][j] = \" \"\n",
    "                    min_eval = min(min_eval, eval)\n",
    "        return min_eval, None\n",
    "\n",
    "def best_move(board):\n",
    "    max_eval, move = -sys.maxsize, None\n",
    "    for i in range(3):\n",
    "        for j in range(3):\n",
    "            if board[i][j] == \" \":\n",
    "                board[i][j] = \"AI\"\n",
    "                eval, _ = minimax(board, 0, False)\n",
    "                board[i][j] = \" \"\n",
    "                if eval > max_eval:\n",
    "                    max_eval = eval\n",
    "                    move = (i, j)\n",
    "    return move\n",
    "\n",
    "def main():\n",
    "    board = [[\" \" for _ in range(3)] for _ in range(3)]\n",
    "    player = \"YOU\"\n",
    "    artificial_intelligence = \"AI\"\n",
    "\n",
    "    print(\"Welcome to Tic-Tac-Toe-AI!\")\n",
    "    board_output(board)\n",
    "\n",
    "    while True:\n",
    "        if player == artificial_intelligence:\n",
    "            move = best_move(board)\n",
    "            board[move[0]][move[1]] = artificial_intelligence\n",
    "            print(f\"AI ({artificial_intelligence}) placed a marker at row {move[0]}, column {move[1]}\")\n",
    "            board_output(board)\n",
    "\n",
    "            game_over, winner = check_winner(board)\n",
    "            if game_over:\n",
    "                print(f\"AI ({winner}) wins!\")\n",
    "                break\n",
    "            elif is_board_full(board):\n",
    "                print(\"It's a tie!\")\n",
    "                break\n",
    "\n",
    "        else:\n",
    "            row = int(input(f\"Player {player}, enter row (0, 1, or 2): \"))\n",
    "            col = int(input(f\"Player {player}, enter column (0, 1, or 2): \"))\n",
    "\n",
    "            if board[row][col] != \" \":\n",
    "                print(\"That cell is already taken. Try again.\")\n",
    "                continue\n",
    "\n",
    "            board[row][col] = player\n",
    "            board_output(board)\n",
    "\n",
    "            game_over, winner = check_winner(board)\n",
    "            if game_over:\n",
    "                print(f\"Congratulations {winner} wins!\")\n",
    "                break\n",
    "            elif is_board_full(board):\n",
    "                print(\"It's a tie!\")\n",
    "                break\n",
    "\n",
    "        player = \"AI\" if player == \"YOU\" else \"YOU\"\n",
    "\n",
    "if __name__ == \"__main__\":\n",
    "    main()"
   ]
  },
  {
   "cell_type": "code",
   "execution_count": null,
   "id": "f7b5b891-44c4-49fe-b318-1a6f27812d10",
   "metadata": {},
   "outputs": [],
   "source": []
  },
  {
   "cell_type": "code",
   "execution_count": null,
   "id": "a5fd7503-bed4-419c-ba56-723babb221e9",
   "metadata": {},
   "outputs": [],
   "source": []
  }
 ],
 "metadata": {
  "kernelspec": {
   "display_name": "Python 3 (ipykernel)",
   "language": "python",
   "name": "python3"
  },
  "language_info": {
   "codemirror_mode": {
    "name": "ipython",
    "version": 3
   },
   "file_extension": ".py",
   "mimetype": "text/x-python",
   "name": "python",
   "nbconvert_exporter": "python",
   "pygments_lexer": "ipython3",
   "version": "3.11.7"
  }
 },
 "nbformat": 4,
 "nbformat_minor": 5
}
