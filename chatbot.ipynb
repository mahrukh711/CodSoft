{
 "cells": [
  {
   "cell_type": "code",
   "execution_count": 5,
   "id": "36517cd4-043d-4b69-99ac-7aec563ed93e",
   "metadata": {},
   "outputs": [
    {
     "name": "stderr",
     "output_type": "stream",
     "text": [
      "[nltk_data] Downloading package vader_lexicon to\n",
      "[nltk_data]     C:\\Users\\Shafqat\\AppData\\Roaming\\nltk_data...\n",
      "[nltk_data]   Package vader_lexicon is already up-to-date!\n"
     ]
    },
    {
     "name": "stdin",
     "output_type": "stream",
     "text": [
      "You:  hey\n"
     ]
    },
    {
     "name": "stdout",
     "output_type": "stream",
     "text": [
      "Chatbot: Hello! How can I assist you today?\n"
     ]
    },
    {
     "name": "stdin",
     "output_type": "stream",
     "text": [
      "You:  hello\n"
     ]
    },
    {
     "name": "stdout",
     "output_type": "stream",
     "text": [
      "Chatbot: Hello! How can I assist you today?\n"
     ]
    },
    {
     "name": "stdin",
     "output_type": "stream",
     "text": [
      "You:  how are you\n"
     ]
    },
    {
     "name": "stdout",
     "output_type": "stream",
     "text": [
      "Chatbot: I'm just a chatbot, but I'm here to help!\n"
     ]
    },
    {
     "name": "stdin",
     "output_type": "stream",
     "text": [
      "You:  bye\n"
     ]
    },
    {
     "name": "stdout",
     "output_type": "stream",
     "text": [
      "Chatbot: GoodBye! have a great day:)\n"
     ]
    },
    {
     "name": "stdin",
     "output_type": "stream",
     "text": [
      "You:  exit\n"
     ]
    },
    {
     "name": "stdout",
     "output_type": "stream",
     "text": [
      "Chatbot: Goodbye! Have a great day:)\n"
     ]
    }
   ],
   "source": [
    "import nltk\n",
    "from nltk.sentiment import SentimentIntensityAnalyzer\n",
    "\n",
    "# Initialize the sentiment analyzer\n",
    "nltk.download('vader_lexicon')  # Download the required lexicon for sentiment analysis\n",
    "sid = SentimentIntensityAnalyzer()\n",
    "\n",
    "# Rule-based chatbot responses\n",
    "def chatbot_response(user_input):\n",
    "    if \"hello\" in user_input.lower():\n",
    "        return \"Hello! How can I assist you today?\"\n",
    "    elif \"hi\" in user_input.lower():\n",
    "        return \"Hello! How can I assist you today?\"\n",
    "    elif \"hey\" in user_input.lower():\n",
    "        return \"Hello! How can I assist you today?\"\n",
    "    elif \"how are you\" in user_input.lower():\n",
    "        return \"I'm just a chatbot, but I'm here to help!\"\n",
    "    elif \"bye\" in user_input.lower():\n",
    "        return \"GoodBye! have a great day:)\"\n",
    "    else:\n",
    "        sentiment_response = analyze_sentiment(user_input)\n",
    "        return sentiment_response\n",
    "\n",
    "# NLP-based sentiment analysis\n",
    "def analyze_sentiment(user_input):\n",
    "    sentiment_score = sid.polarity_scores(user_input)\n",
    "    if sentiment_score['compound'] >= 0.05:\n",
    "        return \"It seems like you're expressing a positive sentiment.\"\n",
    "    elif sentiment_score['compound'] <= -0.05:\n",
    "        return \"It seems like you're expressing a negative sentiment.\"\n",
    "    else:\n",
    "        return \"Your sentiment is neutral or ambiguous.\"\n",
    "\n",
    "# Sample interaction with the chatbot\n",
    "while True:\n",
    "    user_input = input(\"You: \")\n",
    "    if user_input.lower() == 'exit':\n",
    "        print(\"Chatbot: Goodbye! Have a great day:)\")\n",
    "        break\n",
    "    response = chatbot_response(user_input)\n",
    "    print(\"Chatbot:\", response)"
   ]
  },
  {
   "cell_type": "code",
   "execution_count": null,
   "id": "b5773437-0926-45d8-afe8-dc8939ecb7ed",
   "metadata": {},
   "outputs": [],
   "source": []
  }
 ],
 "metadata": {
  "kernelspec": {
   "display_name": "Python 3 (ipykernel)",
   "language": "python",
   "name": "python3"
  },
  "language_info": {
   "codemirror_mode": {
    "name": "ipython",
    "version": 3
   },
   "file_extension": ".py",
   "mimetype": "text/x-python",
   "name": "python",
   "nbconvert_exporter": "python",
   "pygments_lexer": "ipython3",
   "version": "3.11.7"
  }
 },
 "nbformat": 4,
 "nbformat_minor": 5
}
